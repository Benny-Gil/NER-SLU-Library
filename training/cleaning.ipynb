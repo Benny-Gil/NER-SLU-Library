{
 "cells": [
  {
   "cell_type": "markdown",
   "metadata": {},
   "source": [
    "# Data Cleaning\n",
    "The original dataset can be acquired from [arXiv Scientific Research Papers Dataset](https://www.kaggle.com/datasets/sumitm004/arxiv-scientific-research-papers-dataset). It contains curated collection of research papers from arXiv.\n",
    "\n",
    "Since we are only interested in the study summary of the original dataset. Let's extract only the \"summary column\".\n",
    "\n"
   ]
  },
  {
   "cell_type": "code",
   "execution_count": 3,
   "metadata": {},
   "outputs": [
    {
     "name": "stdout",
     "output_type": "stream",
     "text": [
      "Extracted 3000 random summaries to data/arXiv_summaries_3000.csv\n"
     ]
    }
   ],
   "source": [
    "import csv\n",
    "import random\n",
    "\n",
    "# Count total rows first\n",
    "with open('data/arXiv_scientific dataset.csv', 'r') as input_file:\n",
    "    csv_reader = csv.DictReader(input_file)\n",
    "    total_rows = sum(1 for _ in csv_reader)\n",
    "\n",
    "# Generate 3000 random indices to make our dataset smaller\n",
    "sample_size = min(3000, total_rows)\n",
    "random_indices = set(random.sample(range(total_rows), sample_size))\n",
    "\n",
    "# Extract summary column for only the randomly selected rows\n",
    "with open('data/arXiv_scientific dataset.csv', 'r') as input_file, open('data/arXiv_summaries_3000.csv', 'w', newline='') as output_file:\n",
    "    csv_reader = csv.DictReader(input_file)\n",
    "    csv_writer = csv.writer(output_file)\n",
    "    \n",
    "    # Write header\n",
    "    csv_writer.writerow(['summary'])\n",
    "    \n",
    "    # Write only the summary column values for randomly selected rows\n",
    "    for idx, row in enumerate(csv_reader):\n",
    "        if idx in random_indices:\n",
    "            csv_writer.writerow([row['summary']])\n",
    "\n",
    "print(f\"Extracted {sample_size} random summaries to data/arXiv_summaries_3000.csv\")"
   ]
  }
 ],
 "metadata": {
  "kernelspec": {
   "display_name": ".venv",
   "language": "python",
   "name": "python3"
  },
  "language_info": {
   "codemirror_mode": {
    "name": "ipython",
    "version": 3
   },
   "file_extension": ".py",
   "mimetype": "text/x-python",
   "name": "python",
   "nbconvert_exporter": "python",
   "pygments_lexer": "ipython3",
   "version": "3.12.3"
  }
 },
 "nbformat": 4,
 "nbformat_minor": 2
}
